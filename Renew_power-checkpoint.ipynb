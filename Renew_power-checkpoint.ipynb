{
 "cells": [
  {
   "cell_type": "markdown",
   "id": "7fabcb80",
   "metadata": {},
   "source": [
    "# Bearing temperature prediction :\n"
   ]
  },
  {
   "cell_type": "markdown",
   "id": "683acd1c",
   "metadata": {},
   "source": [
    "# Importing requird library"
   ]
  },
  {
   "cell_type": "code",
   "execution_count": 1,
   "id": "821e2da2",
   "metadata": {},
   "outputs": [],
   "source": [
    "import pandas as pd\n",
    "import numpy as np\n",
    "import matplotlib.pyplot as plt\n",
    "import seaborn as sns \n",
    "import os\n",
    "import warnings\n",
    "warnings.filterwarnings('ignore')\n",
    "%matplotlib inline"
   ]
  },
  {
   "cell_type": "markdown",
   "id": "47dccce7",
   "metadata": {},
   "source": [
    "# Load dataset "
   ]
  },
  {
   "cell_type": "code",
   "execution_count": 2,
   "id": "625cdc7a",
   "metadata": {},
   "outputs": [],
   "source": [
    "df_train=pd.read_csv(\"train.csv\")"
   ]
  },
  {
   "cell_type": "code",
   "execution_count": 3,
   "id": "22c70b26",
   "metadata": {},
   "outputs": [
    {
     "data": {
      "text/html": [
       "<div>\n",
       "<style scoped>\n",
       "    .dataframe tbody tr th:only-of-type {\n",
       "        vertical-align: middle;\n",
       "    }\n",
       "\n",
       "    .dataframe tbody tr th {\n",
       "        vertical-align: top;\n",
       "    }\n",
       "\n",
       "    .dataframe thead th {\n",
       "        text-align: right;\n",
       "    }\n",
       "</style>\n",
       "<table border=\"1\" class=\"dataframe\">\n",
       "  <thead>\n",
       "    <tr style=\"text-align: right;\">\n",
       "      <th></th>\n",
       "      <th>timestamp</th>\n",
       "      <th>active_power_calculated_by_converter</th>\n",
       "      <th>active_power_raw</th>\n",
       "      <th>ambient_temperature</th>\n",
       "      <th>generator_speed</th>\n",
       "      <th>generator_winding_temp_max</th>\n",
       "      <th>grid_power10min_average</th>\n",
       "      <th>nc1_inside_temp</th>\n",
       "      <th>nacelle_temp</th>\n",
       "      <th>reactice_power_calculated_by_converter</th>\n",
       "      <th>reactive_power</th>\n",
       "      <th>wind_direction_raw</th>\n",
       "      <th>wind_speed_raw</th>\n",
       "      <th>wind_speed_turbulence</th>\n",
       "      <th>turbine_id</th>\n",
       "      <th>Target</th>\n",
       "    </tr>\n",
       "  </thead>\n",
       "  <tbody>\n",
       "    <tr>\n",
       "      <th>0</th>\n",
       "      <td>2021-02-19 20:18:00</td>\n",
       "      <td>816.636759</td>\n",
       "      <td>834.917206</td>\n",
       "      <td>31.694380</td>\n",
       "      <td>1159.616602</td>\n",
       "      <td>65.954214</td>\n",
       "      <td>917.897085</td>\n",
       "      <td>31.881972</td>\n",
       "      <td>31.504713</td>\n",
       "      <td>141.457644</td>\n",
       "      <td>165.501518</td>\n",
       "      <td>280.864782</td>\n",
       "      <td>7.057000</td>\n",
       "      <td>0.544082</td>\n",
       "      <td>Turbine_108</td>\n",
       "      <td>47.582787</td>\n",
       "    </tr>\n",
       "    <tr>\n",
       "      <th>1</th>\n",
       "      <td>2021-04-27 04:55:00</td>\n",
       "      <td>419.107829</td>\n",
       "      <td>421.050873</td>\n",
       "      <td>12.894948</td>\n",
       "      <td>928.747996</td>\n",
       "      <td>59.571319</td>\n",
       "      <td>445.554250</td>\n",
       "      <td>32.423705</td>\n",
       "      <td>32.755770</td>\n",
       "      <td>89.186457</td>\n",
       "      <td>113.835236</td>\n",
       "      <td>299.552460</td>\n",
       "      <td>5.474937</td>\n",
       "      <td>0.469031</td>\n",
       "      <td>Turbine_18</td>\n",
       "      <td>46.070328</td>\n",
       "    </tr>\n",
       "    <tr>\n",
       "      <th>2</th>\n",
       "      <td>2021-01-25 06:26:00</td>\n",
       "      <td>1303.530558</td>\n",
       "      <td>1337.566142</td>\n",
       "      <td>16.648388</td>\n",
       "      <td>1201.219775</td>\n",
       "      <td>61.270498</td>\n",
       "      <td>1364.716003</td>\n",
       "      <td>11.446849</td>\n",
       "      <td>18.332985</td>\n",
       "      <td>230.622309</td>\n",
       "      <td>281.452253</td>\n",
       "      <td>84.960106</td>\n",
       "      <td>8.092457</td>\n",
       "      <td>0.622318</td>\n",
       "      <td>Turbine_105</td>\n",
       "      <td>39.989236</td>\n",
       "    </tr>\n",
       "    <tr>\n",
       "      <th>3</th>\n",
       "      <td>2021-10-30 03:47:00</td>\n",
       "      <td>61.494872</td>\n",
       "      <td>53.481008</td>\n",
       "      <td>28.388141</td>\n",
       "      <td>769.806122</td>\n",
       "      <td>40.674348</td>\n",
       "      <td>14.324897</td>\n",
       "      <td>34.253204</td>\n",
       "      <td>32.662889</td>\n",
       "      <td>66.211015</td>\n",
       "      <td>75.017531</td>\n",
       "      <td>87.261119</td>\n",
       "      <td>4.071032</td>\n",
       "      <td>0.760719</td>\n",
       "      <td>Turbine_15</td>\n",
       "      <td>46.056587</td>\n",
       "    </tr>\n",
       "    <tr>\n",
       "      <th>4</th>\n",
       "      <td>2021-03-15 00:39:00</td>\n",
       "      <td>593.514364</td>\n",
       "      <td>611.659108</td>\n",
       "      <td>31.519527</td>\n",
       "      <td>1046.916768</td>\n",
       "      <td>64.341763</td>\n",
       "      <td>599.020172</td>\n",
       "      <td>32.405586</td>\n",
       "      <td>31.466387</td>\n",
       "      <td>137.163938</td>\n",
       "      <td>160.202421</td>\n",
       "      <td>313.724818</td>\n",
       "      <td>6.357943</td>\n",
       "      <td>0.346068</td>\n",
       "      <td>Turbine_01</td>\n",
       "      <td>54.346095</td>\n",
       "    </tr>\n",
       "  </tbody>\n",
       "</table>\n",
       "</div>"
      ],
      "text/plain": [
       "             timestamp  active_power_calculated_by_converter  \\\n",
       "0  2021-02-19 20:18:00                            816.636759   \n",
       "1  2021-04-27 04:55:00                            419.107829   \n",
       "2  2021-01-25 06:26:00                           1303.530558   \n",
       "3  2021-10-30 03:47:00                             61.494872   \n",
       "4  2021-03-15 00:39:00                            593.514364   \n",
       "\n",
       "   active_power_raw  ambient_temperature  generator_speed  \\\n",
       "0        834.917206            31.694380      1159.616602   \n",
       "1        421.050873            12.894948       928.747996   \n",
       "2       1337.566142            16.648388      1201.219775   \n",
       "3         53.481008            28.388141       769.806122   \n",
       "4        611.659108            31.519527      1046.916768   \n",
       "\n",
       "   generator_winding_temp_max  grid_power10min_average  nc1_inside_temp  \\\n",
       "0                   65.954214               917.897085        31.881972   \n",
       "1                   59.571319               445.554250        32.423705   \n",
       "2                   61.270498              1364.716003        11.446849   \n",
       "3                   40.674348                14.324897        34.253204   \n",
       "4                   64.341763               599.020172        32.405586   \n",
       "\n",
       "   nacelle_temp  reactice_power_calculated_by_converter  reactive_power  \\\n",
       "0     31.504713                              141.457644      165.501518   \n",
       "1     32.755770                               89.186457      113.835236   \n",
       "2     18.332985                              230.622309      281.452253   \n",
       "3     32.662889                               66.211015       75.017531   \n",
       "4     31.466387                              137.163938      160.202421   \n",
       "\n",
       "   wind_direction_raw  wind_speed_raw  wind_speed_turbulence   turbine_id  \\\n",
       "0          280.864782        7.057000               0.544082  Turbine_108   \n",
       "1          299.552460        5.474937               0.469031   Turbine_18   \n",
       "2           84.960106        8.092457               0.622318  Turbine_105   \n",
       "3           87.261119        4.071032               0.760719   Turbine_15   \n",
       "4          313.724818        6.357943               0.346068   Turbine_01   \n",
       "\n",
       "      Target  \n",
       "0  47.582787  \n",
       "1  46.070328  \n",
       "2  39.989236  \n",
       "3  46.056587  \n",
       "4  54.346095  "
      ]
     },
     "execution_count": 3,
     "metadata": {},
     "output_type": "execute_result"
    }
   ],
   "source": [
    "df_train.head()"
   ]
  },
  {
   "cell_type": "markdown",
   "id": "70326846",
   "metadata": {},
   "source": [
    "# EDA and feature engineering"
   ]
  },
  {
   "cell_type": "code",
   "execution_count": 4,
   "id": "1d8403ab",
   "metadata": {},
   "outputs": [
    {
     "data": {
      "text/html": [
       "<div>\n",
       "<style scoped>\n",
       "    .dataframe tbody tr th:only-of-type {\n",
       "        vertical-align: middle;\n",
       "    }\n",
       "\n",
       "    .dataframe tbody tr th {\n",
       "        vertical-align: top;\n",
       "    }\n",
       "\n",
       "    .dataframe thead th {\n",
       "        text-align: right;\n",
       "    }\n",
       "</style>\n",
       "<table border=\"1\" class=\"dataframe\">\n",
       "  <thead>\n",
       "    <tr style=\"text-align: right;\">\n",
       "      <th></th>\n",
       "      <th>active_power_calculated_by_converter</th>\n",
       "      <th>active_power_raw</th>\n",
       "      <th>ambient_temperature</th>\n",
       "      <th>generator_speed</th>\n",
       "      <th>generator_winding_temp_max</th>\n",
       "      <th>grid_power10min_average</th>\n",
       "      <th>nc1_inside_temp</th>\n",
       "      <th>nacelle_temp</th>\n",
       "      <th>reactice_power_calculated_by_converter</th>\n",
       "      <th>reactive_power</th>\n",
       "      <th>wind_direction_raw</th>\n",
       "      <th>wind_speed_raw</th>\n",
       "      <th>wind_speed_turbulence</th>\n",
       "      <th>Target</th>\n",
       "    </tr>\n",
       "  </thead>\n",
       "  <tbody>\n",
       "    <tr>\n",
       "      <th>count</th>\n",
       "      <td>909604.000000</td>\n",
       "      <td>909604.000000</td>\n",
       "      <td>909604.000000</td>\n",
       "      <td>909604.000000</td>\n",
       "      <td>909604.000000</td>\n",
       "      <td>909604.000000</td>\n",
       "      <td>909604.000000</td>\n",
       "      <td>909604.000000</td>\n",
       "      <td>909604.000000</td>\n",
       "      <td>909604.000000</td>\n",
       "      <td>909604.000000</td>\n",
       "      <td>909604.000000</td>\n",
       "      <td>909604.000000</td>\n",
       "      <td>909604.000000</td>\n",
       "    </tr>\n",
       "    <tr>\n",
       "      <th>mean</th>\n",
       "      <td>525.886061</td>\n",
       "      <td>537.639468</td>\n",
       "      <td>25.573921</td>\n",
       "      <td>931.130882</td>\n",
       "      <td>60.730112</td>\n",
       "      <td>527.579537</td>\n",
       "      <td>31.755823</td>\n",
       "      <td>31.686413</td>\n",
       "      <td>111.080610</td>\n",
       "      <td>133.692333</td>\n",
       "      <td>199.487161</td>\n",
       "      <td>5.894950</td>\n",
       "      <td>0.651916</td>\n",
       "      <td>46.328595</td>\n",
       "    </tr>\n",
       "    <tr>\n",
       "      <th>std</th>\n",
       "      <td>474.619576</td>\n",
       "      <td>482.394907</td>\n",
       "      <td>8.025649</td>\n",
       "      <td>193.674384</td>\n",
       "      <td>9.721582</td>\n",
       "      <td>472.656976</td>\n",
       "      <td>3.929794</td>\n",
       "      <td>3.554426</td>\n",
       "      <td>78.219944</td>\n",
       "      <td>91.232152</td>\n",
       "      <td>104.617261</td>\n",
       "      <td>1.977684</td>\n",
       "      <td>0.317513</td>\n",
       "      <td>2.617691</td>\n",
       "    </tr>\n",
       "    <tr>\n",
       "      <th>min</th>\n",
       "      <td>0.000000</td>\n",
       "      <td>0.000008</td>\n",
       "      <td>5.616541</td>\n",
       "      <td>0.000000</td>\n",
       "      <td>25.636366</td>\n",
       "      <td>0.000000</td>\n",
       "      <td>11.141922</td>\n",
       "      <td>16.010218</td>\n",
       "      <td>-318.393721</td>\n",
       "      <td>-5.461607</td>\n",
       "      <td>0.309692</td>\n",
       "      <td>0.904500</td>\n",
       "      <td>0.000000</td>\n",
       "      <td>25.865320</td>\n",
       "    </tr>\n",
       "    <tr>\n",
       "      <th>25%</th>\n",
       "      <td>149.620898</td>\n",
       "      <td>155.813244</td>\n",
       "      <td>17.093680</td>\n",
       "      <td>770.538574</td>\n",
       "      <td>54.916767</td>\n",
       "      <td>147.181552</td>\n",
       "      <td>29.913803</td>\n",
       "      <td>30.267423</td>\n",
       "      <td>81.540850</td>\n",
       "      <td>96.045765</td>\n",
       "      <td>98.916060</td>\n",
       "      <td>4.400753</td>\n",
       "      <td>0.432129</td>\n",
       "      <td>44.816740</td>\n",
       "    </tr>\n",
       "    <tr>\n",
       "      <th>50%</th>\n",
       "      <td>379.989929</td>\n",
       "      <td>383.985926</td>\n",
       "      <td>27.919035</td>\n",
       "      <td>884.068502</td>\n",
       "      <td>60.034490</td>\n",
       "      <td>391.303187</td>\n",
       "      <td>31.762946</td>\n",
       "      <td>31.961610</td>\n",
       "      <td>92.005826</td>\n",
       "      <td>107.633378</td>\n",
       "      <td>232.821159</td>\n",
       "      <td>5.637207</td>\n",
       "      <td>0.583863</td>\n",
       "      <td>46.302899</td>\n",
       "    </tr>\n",
       "    <tr>\n",
       "      <th>75%</th>\n",
       "      <td>781.357475</td>\n",
       "      <td>800.261108</td>\n",
       "      <td>32.171696</td>\n",
       "      <td>1123.335856</td>\n",
       "      <td>65.737187</td>\n",
       "      <td>794.875710</td>\n",
       "      <td>33.469745</td>\n",
       "      <td>33.546260</td>\n",
       "      <td>124.879153</td>\n",
       "      <td>154.153730</td>\n",
       "      <td>287.667503</td>\n",
       "      <td>7.092771</td>\n",
       "      <td>0.798240</td>\n",
       "      <td>47.733105</td>\n",
       "    </tr>\n",
       "    <tr>\n",
       "      <th>max</th>\n",
       "      <td>1999.999858</td>\n",
       "      <td>1999.984456</td>\n",
       "      <td>48.089017</td>\n",
       "      <td>1267.140625</td>\n",
       "      <td>129.846405</td>\n",
       "      <td>1999.991455</td>\n",
       "      <td>52.790030</td>\n",
       "      <td>48.406106</td>\n",
       "      <td>523.892695</td>\n",
       "      <td>592.815938</td>\n",
       "      <td>359.455531</td>\n",
       "      <td>19.795001</td>\n",
       "      <td>9.534769</td>\n",
       "      <td>65.037689</td>\n",
       "    </tr>\n",
       "  </tbody>\n",
       "</table>\n",
       "</div>"
      ],
      "text/plain": [
       "       active_power_calculated_by_converter  active_power_raw  \\\n",
       "count                         909604.000000     909604.000000   \n",
       "mean                             525.886061        537.639468   \n",
       "std                              474.619576        482.394907   \n",
       "min                                0.000000          0.000008   \n",
       "25%                              149.620898        155.813244   \n",
       "50%                              379.989929        383.985926   \n",
       "75%                              781.357475        800.261108   \n",
       "max                             1999.999858       1999.984456   \n",
       "\n",
       "       ambient_temperature  generator_speed  generator_winding_temp_max  \\\n",
       "count        909604.000000    909604.000000               909604.000000   \n",
       "mean             25.573921       931.130882                   60.730112   \n",
       "std               8.025649       193.674384                    9.721582   \n",
       "min               5.616541         0.000000                   25.636366   \n",
       "25%              17.093680       770.538574                   54.916767   \n",
       "50%              27.919035       884.068502                   60.034490   \n",
       "75%              32.171696      1123.335856                   65.737187   \n",
       "max              48.089017      1267.140625                  129.846405   \n",
       "\n",
       "       grid_power10min_average  nc1_inside_temp   nacelle_temp  \\\n",
       "count            909604.000000    909604.000000  909604.000000   \n",
       "mean                527.579537        31.755823      31.686413   \n",
       "std                 472.656976         3.929794       3.554426   \n",
       "min                   0.000000        11.141922      16.010218   \n",
       "25%                 147.181552        29.913803      30.267423   \n",
       "50%                 391.303187        31.762946      31.961610   \n",
       "75%                 794.875710        33.469745      33.546260   \n",
       "max                1999.991455        52.790030      48.406106   \n",
       "\n",
       "       reactice_power_calculated_by_converter  reactive_power  \\\n",
       "count                           909604.000000   909604.000000   \n",
       "mean                               111.080610      133.692333   \n",
       "std                                 78.219944       91.232152   \n",
       "min                               -318.393721       -5.461607   \n",
       "25%                                 81.540850       96.045765   \n",
       "50%                                 92.005826      107.633378   \n",
       "75%                                124.879153      154.153730   \n",
       "max                                523.892695      592.815938   \n",
       "\n",
       "       wind_direction_raw  wind_speed_raw  wind_speed_turbulence  \\\n",
       "count       909604.000000   909604.000000          909604.000000   \n",
       "mean           199.487161        5.894950               0.651916   \n",
       "std            104.617261        1.977684               0.317513   \n",
       "min              0.309692        0.904500               0.000000   \n",
       "25%             98.916060        4.400753               0.432129   \n",
       "50%            232.821159        5.637207               0.583863   \n",
       "75%            287.667503        7.092771               0.798240   \n",
       "max            359.455531       19.795001               9.534769   \n",
       "\n",
       "              Target  \n",
       "count  909604.000000  \n",
       "mean       46.328595  \n",
       "std         2.617691  \n",
       "min        25.865320  \n",
       "25%        44.816740  \n",
       "50%        46.302899  \n",
       "75%        47.733105  \n",
       "max        65.037689  "
      ]
     },
     "execution_count": 4,
     "metadata": {},
     "output_type": "execute_result"
    }
   ],
   "source": [
    "df_train.describe()"
   ]
  },
  {
   "cell_type": "code",
   "execution_count": 5,
   "id": "ae585d31",
   "metadata": {},
   "outputs": [
    {
     "data": {
      "text/plain": [
       "(909604, 16)"
      ]
     },
     "execution_count": 5,
     "metadata": {},
     "output_type": "execute_result"
    }
   ],
   "source": [
    "df_train.shape"
   ]
  },
  {
   "cell_type": "code",
   "execution_count": 6,
   "id": "1db79d6f",
   "metadata": {},
   "outputs": [
    {
     "data": {
      "text/plain": [
       "Index(['timestamp', 'active_power_calculated_by_converter', 'active_power_raw',\n",
       "       'ambient_temperature', 'generator_speed', 'generator_winding_temp_max',\n",
       "       'grid_power10min_average', 'nc1_inside_temp', 'nacelle_temp',\n",
       "       'reactice_power_calculated_by_converter', 'reactive_power',\n",
       "       'wind_direction_raw', 'wind_speed_raw', 'wind_speed_turbulence',\n",
       "       'turbine_id', 'Target'],\n",
       "      dtype='object')"
      ]
     },
     "execution_count": 6,
     "metadata": {},
     "output_type": "execute_result"
    }
   ],
   "source": [
    "df_train.columns"
   ]
  },
  {
   "cell_type": "code",
   "execution_count": 7,
   "id": "4ea2284e",
   "metadata": {},
   "outputs": [
    {
     "data": {
      "text/plain": [
       "<AxesSubplot:>"
      ]
     },
     "execution_count": 7,
     "metadata": {},
     "output_type": "execute_result"
    },
    {
     "data": {
      "image/png": "[encoded data removed]",
      "text/plain": [
       "<Figure size 864x936 with 2 Axes>"
      ]
     },
     "metadata": {
      "needs_background": "light"
     },
     "output_type": "display_data"
    }
   ],
   "source": [
    "plt.figure(figsize=(12,13))\n",
    "sns.heatmap(df_train.corr(),annot=True)"
   ]
  },
  {
   "cell_type": "code",
   "execution_count": 8,
   "id": "2e5a65d2",
   "metadata": {},
   "outputs": [
    {
     "data": {
      "text/plain": [
       "timestamp                                 0\n",
       "active_power_calculated_by_converter      0\n",
       "active_power_raw                          0\n",
       "ambient_temperature                       0\n",
       "generator_speed                           0\n",
       "generator_winding_temp_max                0\n",
       "grid_power10min_average                   0\n",
       "nc1_inside_temp                           0\n",
       "nacelle_temp                              0\n",
       "reactice_power_calculated_by_converter    0\n",
       "reactive_power                            0\n",
       "wind_direction_raw                        0\n",
       "wind_speed_raw                            0\n",
       "wind_speed_turbulence                     0\n",
       "turbine_id                                0\n",
       "Target                                    0\n",
       "dtype: int64"
      ]
     },
     "execution_count": 8,
     "metadata": {},
     "output_type": "execute_result"
    }
   ],
   "source": [
    "df_train.isnull().sum()"
   ]
  },
  {
   "cell_type": "code",
   "execution_count": 9,
   "id": "39371a68",
   "metadata": {},
   "outputs": [
    {
     "data": {
      "text/plain": [
       "array(['Turbine_108', 'Turbine_18', 'Turbine_105', 'Turbine_15',\n",
       "       'Turbine_01', 'Turbine_14', 'Turbine_10', 'Turbine_103',\n",
       "       'Turbine_123', 'Turbine_120', 'Turbine_139', 'Turbine_97',\n",
       "       'Turbine_19', 'Turbine_20', 'Turbine_13', 'Turbine_158'],\n",
       "      dtype=object)"
      ]
     },
     "execution_count": 9,
     "metadata": {},
     "output_type": "execute_result"
    }
   ],
   "source": [
    "df_train['turbine_id'].unique()"
   ]
  },
  {
   "cell_type": "code",
   "execution_count": 10,
   "id": "e2a8d2ef",
   "metadata": {},
   "outputs": [],
   "source": [
    "df_train['timestamp']=pd.to_datetime(df_train['timestamp'])\n",
    "df_train['month']=df_train['timestamp'].dt.month"
   ]
  },
  {
   "cell_type": "code",
   "execution_count": 11,
   "id": "a2245a42",
   "metadata": {},
   "outputs": [
    {
     "data": {
      "text/html": [
       "<div>\n",
       "<style scoped>\n",
       "    .dataframe tbody tr th:only-of-type {\n",
       "        vertical-align: middle;\n",
       "    }\n",
       "\n",
       "    .dataframe tbody tr th {\n",
       "        vertical-align: top;\n",
       "    }\n",
       "\n",
       "    .dataframe thead th {\n",
       "        text-align: right;\n",
       "    }\n",
       "</style>\n",
       "<table border=\"1\" class=\"dataframe\">\n",
       "  <thead>\n",
       "    <tr style=\"text-align: right;\">\n",
       "      <th></th>\n",
       "      <th>timestamp</th>\n",
       "      <th>active_power_calculated_by_converter</th>\n",
       "      <th>active_power_raw</th>\n",
       "      <th>ambient_temperature</th>\n",
       "      <th>generator_speed</th>\n",
       "      <th>generator_winding_temp_max</th>\n",
       "      <th>grid_power10min_average</th>\n",
       "      <th>nc1_inside_temp</th>\n",
       "      <th>nacelle_temp</th>\n",
       "      <th>reactice_power_calculated_by_converter</th>\n",
       "      <th>reactive_power</th>\n",
       "      <th>wind_direction_raw</th>\n",
       "      <th>wind_speed_raw</th>\n",
       "      <th>wind_speed_turbulence</th>\n",
       "      <th>turbine_id</th>\n",
       "      <th>Target</th>\n",
       "      <th>month</th>\n",
       "    </tr>\n",
       "  </thead>\n",
       "  <tbody>\n",
       "    <tr>\n",
       "      <th>0</th>\n",
       "      <td>2021-02-19 20:18:00</td>\n",
       "      <td>816.636759</td>\n",
       "      <td>834.917206</td>\n",
       "      <td>31.694380</td>\n",
       "      <td>1159.616602</td>\n",
       "      <td>65.954214</td>\n",
       "      <td>917.897085</td>\n",
       "      <td>31.881972</td>\n",
       "      <td>31.504713</td>\n",
       "      <td>141.457644</td>\n",
       "      <td>165.501518</td>\n",
       "      <td>280.864782</td>\n",
       "      <td>7.057000</td>\n",
       "      <td>0.544082</td>\n",
       "      <td>Turbine_108</td>\n",
       "      <td>47.582787</td>\n",
       "      <td>2</td>\n",
       "    </tr>\n",
       "    <tr>\n",
       "      <th>1</th>\n",
       "      <td>2021-04-27 04:55:00</td>\n",
       "      <td>419.107829</td>\n",
       "      <td>421.050873</td>\n",
       "      <td>12.894948</td>\n",
       "      <td>928.747996</td>\n",
       "      <td>59.571319</td>\n",
       "      <td>445.554250</td>\n",
       "      <td>32.423705</td>\n",
       "      <td>32.755770</td>\n",
       "      <td>89.186457</td>\n",
       "      <td>113.835236</td>\n",
       "      <td>299.552460</td>\n",
       "      <td>5.474937</td>\n",
       "      <td>0.469031</td>\n",
       "      <td>Turbine_18</td>\n",
       "      <td>46.070328</td>\n",
       "      <td>4</td>\n",
       "    </tr>\n",
       "    <tr>\n",
       "      <th>2</th>\n",
       "      <td>2021-01-25 06:26:00</td>\n",
       "      <td>1303.530558</td>\n",
       "      <td>1337.566142</td>\n",
       "      <td>16.648388</td>\n",
       "      <td>1201.219775</td>\n",
       "      <td>61.270498</td>\n",
       "      <td>1364.716003</td>\n",
       "      <td>11.446849</td>\n",
       "      <td>18.332985</td>\n",
       "      <td>230.622309</td>\n",
       "      <td>281.452253</td>\n",
       "      <td>84.960106</td>\n",
       "      <td>8.092457</td>\n",
       "      <td>0.622318</td>\n",
       "      <td>Turbine_105</td>\n",
       "      <td>39.989236</td>\n",
       "      <td>1</td>\n",
       "    </tr>\n",
       "    <tr>\n",
       "      <th>3</th>\n",
       "      <td>2021-10-30 03:47:00</td>\n",
       "      <td>61.494872</td>\n",
       "      <td>53.481008</td>\n",
       "      <td>28.388141</td>\n",
       "      <td>769.806122</td>\n",
       "      <td>40.674348</td>\n",
       "      <td>14.324897</td>\n",
       "      <td>34.253204</td>\n",
       "      <td>32.662889</td>\n",
       "      <td>66.211015</td>\n",
       "      <td>75.017531</td>\n",
       "      <td>87.261119</td>\n",
       "      <td>4.071032</td>\n",
       "      <td>0.760719</td>\n",
       "      <td>Turbine_15</td>\n",
       "      <td>46.056587</td>\n",
       "      <td>10</td>\n",
       "    </tr>\n",
       "    <tr>\n",
       "      <th>4</th>\n",
       "      <td>2021-03-15 00:39:00</td>\n",
       "      <td>593.514364</td>\n",
       "      <td>611.659108</td>\n",
       "      <td>31.519527</td>\n",
       "      <td>1046.916768</td>\n",
       "      <td>64.341763</td>\n",
       "      <td>599.020172</td>\n",
       "      <td>32.405586</td>\n",
       "      <td>31.466387</td>\n",
       "      <td>137.163938</td>\n",
       "      <td>160.202421</td>\n",
       "      <td>313.724818</td>\n",
       "      <td>6.357943</td>\n",
       "      <td>0.346068</td>\n",
       "      <td>Turbine_01</td>\n",
       "      <td>54.346095</td>\n",
       "      <td>3</td>\n",
       "    </tr>\n",
       "    <tr>\n",
       "      <th>...</th>\n",
       "      <td>...</td>\n",
       "      <td>...</td>\n",
       "      <td>...</td>\n",
       "      <td>...</td>\n",
       "      <td>...</td>\n",
       "      <td>...</td>\n",
       "      <td>...</td>\n",
       "      <td>...</td>\n",
       "      <td>...</td>\n",
       "      <td>...</td>\n",
       "      <td>...</td>\n",
       "      <td>...</td>\n",
       "      <td>...</td>\n",
       "      <td>...</td>\n",
       "      <td>...</td>\n",
       "      <td>...</td>\n",
       "      <td>...</td>\n",
       "    </tr>\n",
       "    <tr>\n",
       "      <th>909599</th>\n",
       "      <td>2021-04-25 19:12:00</td>\n",
       "      <td>929.101908</td>\n",
       "      <td>948.441905</td>\n",
       "      <td>32.736076</td>\n",
       "      <td>1187.303192</td>\n",
       "      <td>83.187140</td>\n",
       "      <td>1343.320577</td>\n",
       "      <td>32.291391</td>\n",
       "      <td>35.152280</td>\n",
       "      <td>152.216446</td>\n",
       "      <td>191.088800</td>\n",
       "      <td>189.901812</td>\n",
       "      <td>7.155343</td>\n",
       "      <td>1.028960</td>\n",
       "      <td>Turbine_13</td>\n",
       "      <td>50.768675</td>\n",
       "      <td>4</td>\n",
       "    </tr>\n",
       "    <tr>\n",
       "      <th>909600</th>\n",
       "      <td>2021-02-20 17:37:00</td>\n",
       "      <td>100.730526</td>\n",
       "      <td>88.694599</td>\n",
       "      <td>30.540500</td>\n",
       "      <td>770.245593</td>\n",
       "      <td>56.235497</td>\n",
       "      <td>177.620552</td>\n",
       "      <td>30.434302</td>\n",
       "      <td>29.932141</td>\n",
       "      <td>85.353107</td>\n",
       "      <td>96.621675</td>\n",
       "      <td>93.417590</td>\n",
       "      <td>4.121607</td>\n",
       "      <td>0.595874</td>\n",
       "      <td>Turbine_158</td>\n",
       "      <td>44.234821</td>\n",
       "      <td>2</td>\n",
       "    </tr>\n",
       "    <tr>\n",
       "      <th>909601</th>\n",
       "      <td>2021-10-22 14:18:00</td>\n",
       "      <td>1120.915965</td>\n",
       "      <td>1165.016907</td>\n",
       "      <td>30.901129</td>\n",
       "      <td>1170.456860</td>\n",
       "      <td>62.942943</td>\n",
       "      <td>873.414622</td>\n",
       "      <td>30.491818</td>\n",
       "      <td>33.085164</td>\n",
       "      <td>42.820210</td>\n",
       "      <td>74.111173</td>\n",
       "      <td>230.988398</td>\n",
       "      <td>8.551669</td>\n",
       "      <td>0.951241</td>\n",
       "      <td>Turbine_15</td>\n",
       "      <td>46.942486</td>\n",
       "      <td>10</td>\n",
       "    </tr>\n",
       "    <tr>\n",
       "      <th>909602</th>\n",
       "      <td>2021-02-08 22:03:00</td>\n",
       "      <td>123.444564</td>\n",
       "      <td>116.066919</td>\n",
       "      <td>32.697933</td>\n",
       "      <td>770.190796</td>\n",
       "      <td>57.245207</td>\n",
       "      <td>95.865704</td>\n",
       "      <td>32.338824</td>\n",
       "      <td>31.525384</td>\n",
       "      <td>86.549094</td>\n",
       "      <td>97.470984</td>\n",
       "      <td>65.408801</td>\n",
       "      <td>4.324064</td>\n",
       "      <td>0.247335</td>\n",
       "      <td>Turbine_97</td>\n",
       "      <td>46.392221</td>\n",
       "      <td>2</td>\n",
       "    </tr>\n",
       "    <tr>\n",
       "      <th>909603</th>\n",
       "      <td>2021-04-09 14:28:00</td>\n",
       "      <td>4.843147</td>\n",
       "      <td>10.779734</td>\n",
       "      <td>19.452520</td>\n",
       "      <td>736.601664</td>\n",
       "      <td>60.603885</td>\n",
       "      <td>78.559767</td>\n",
       "      <td>30.798932</td>\n",
       "      <td>38.252200</td>\n",
       "      <td>2.763231</td>\n",
       "      <td>1.320198</td>\n",
       "      <td>11.127739</td>\n",
       "      <td>2.017444</td>\n",
       "      <td>0.963029</td>\n",
       "      <td>Turbine_105</td>\n",
       "      <td>48.902180</td>\n",
       "      <td>4</td>\n",
       "    </tr>\n",
       "  </tbody>\n",
       "</table>\n",
       "<p>909604 rows × 17 columns</p>\n",
       "</div>"
      ],
      "text/plain": [
       "                 timestamp  active_power_calculated_by_converter  \\\n",
       "0      2021-02-19 20:18:00                            816.636759   \n",
       "1      2021-04-27 04:55:00                            419.107829   \n",
       "2      2021-01-25 06:26:00                           1303.530558   \n",
       "3      2021-10-30 03:47:00                             61.494872   \n",
       "4      2021-03-15 00:39:00                            593.514364   \n",
       "...                    ...                                   ...   \n",
       "909599 2021-04-25 19:12:00                            929.101908   \n",
       "909600 2021-02-20 17:37:00                            100.730526   \n",
       "909601 2021-10-22 14:18:00                           1120.915965   \n",
       "909602 2021-02-08 22:03:00                            123.444564   \n",
       "909603 2021-04-09 14:28:00                              4.843147   \n",
       "\n",
       "        active_power_raw  ambient_temperature  generator_speed  \\\n",
       "0             834.917206            31.694380      1159.616602   \n",
       "1             421.050873            12.894948       928.747996   \n",
       "2            1337.566142            16.648388      1201.219775   \n",
       "3              53.481008            28.388141       769.806122   \n",
       "4             611.659108            31.519527      1046.916768   \n",
       "...                  ...                  ...              ...   \n",
       "909599        948.441905            32.736076      1187.303192   \n",
       "909600         88.694599            30.540500       770.245593   \n",
       "909601       1165.016907            30.901129      1170.456860   \n",
       "909602        116.066919            32.697933       770.190796   \n",
       "909603         10.779734            19.452520       736.601664   \n",
       "\n",
       "        generator_winding_temp_max  grid_power10min_average  nc1_inside_temp  \\\n",
       "0                        65.954214               917.897085        31.881972   \n",
       "1                        59.571319               445.554250        32.423705   \n",
       "2                        61.270498              1364.716003        11.446849   \n",
       "3                        40.674348                14.324897        34.253204   \n",
       "4                        64.341763               599.020172        32.405586   \n",
       "...                            ...                      ...              ...   \n",
       "909599                   83.187140              1343.320577        32.291391   \n",
       "909600                   56.235497               177.620552        30.434302   \n",
       "909601                   62.942943               873.414622        30.491818   \n",
       "909602                   57.245207                95.865704        32.338824   \n",
       "909603                   60.603885                78.559767        30.798932   \n",
       "\n",
       "        nacelle_temp  reactice_power_calculated_by_converter  reactive_power  \\\n",
       "0          31.504713                              141.457644      165.501518   \n",
       "1          32.755770                               89.186457      113.835236   \n",
       "2          18.332985                              230.622309      281.452253   \n",
       "3          32.662889                               66.211015       75.017531   \n",
       "4          31.466387                              137.163938      160.202421   \n",
       "...              ...                                     ...             ...   \n",
       "909599     35.152280                              152.216446      191.088800   \n",
       "909600     29.932141                               85.353107       96.621675   \n",
       "909601     33.085164                               42.820210       74.111173   \n",
       "909602     31.525384                               86.549094       97.470984   \n",
       "909603     38.252200                                2.763231        1.320198   \n",
       "\n",
       "        wind_direction_raw  wind_speed_raw  wind_speed_turbulence  \\\n",
       "0               280.864782        7.057000               0.544082   \n",
       "1               299.552460        5.474937               0.469031   \n",
       "2                84.960106        8.092457               0.622318   \n",
       "3                87.261119        4.071032               0.760719   \n",
       "4               313.724818        6.357943               0.346068   \n",
       "...                    ...             ...                    ...   \n",
       "909599          189.901812        7.155343               1.028960   \n",
       "909600           93.417590        4.121607               0.595874   \n",
       "909601          230.988398        8.551669               0.951241   \n",
       "909602           65.408801        4.324064               0.247335   \n",
       "909603           11.127739        2.017444               0.963029   \n",
       "\n",
       "         turbine_id     Target  month  \n",
       "0       Turbine_108  47.582787      2  \n",
       "1        Turbine_18  46.070328      4  \n",
       "2       Turbine_105  39.989236      1  \n",
       "3        Turbine_15  46.056587     10  \n",
       "4        Turbine_01  54.346095      3  \n",
       "...             ...        ...    ...  \n",
       "909599   Turbine_13  50.768675      4  \n",
       "909600  Turbine_158  44.234821      2  \n",
       "909601   Turbine_15  46.942486     10  \n",
       "909602   Turbine_97  46.392221      2  \n",
       "909603  Turbine_105  48.902180      4  \n",
       "\n",
       "[909604 rows x 17 columns]"
      ]
     },
     "execution_count": 11,
     "metadata": {},
     "output_type": "execute_result"
    }
   ],
   "source": [
    "df_train"
   ]
  },
  {
   "cell_type": "code",
   "execution_count": 12,
   "id": "90b8a4ac",
   "metadata": {},
   "outputs": [
    {
     "data": {
      "text/plain": [
       "Index(['timestamp', 'active_power_calculated_by_converter', 'active_power_raw',\n",
       "       'ambient_temperature', 'generator_speed', 'generator_winding_temp_max',\n",
       "       'grid_power10min_average', 'nc1_inside_temp', 'nacelle_temp',\n",
       "       'reactice_power_calculated_by_converter', 'reactive_power',\n",
       "       'wind_direction_raw', 'wind_speed_raw', 'wind_speed_turbulence',\n",
       "       'turbine_id', 'Target', 'month'],\n",
       "      dtype='object')"
      ]
     },
     "execution_count": 12,
     "metadata": {},
     "output_type": "execute_result"
    }
   ],
   "source": [
    "df_train.columns"
   ]
  },
  {
   "cell_type": "code",
   "execution_count": 13,
   "id": "b27be4ee",
   "metadata": {},
   "outputs": [
    {
     "data": {
      "text/html": [
       "<div>\n",
       "<style scoped>\n",
       "    .dataframe tbody tr th:only-of-type {\n",
       "        vertical-align: middle;\n",
       "    }\n",
       "\n",
       "    .dataframe tbody tr th {\n",
       "        vertical-align: top;\n",
       "    }\n",
       "\n",
       "    .dataframe thead th {\n",
       "        text-align: right;\n",
       "    }\n",
       "</style>\n",
       "<table border=\"1\" class=\"dataframe\">\n",
       "  <thead>\n",
       "    <tr style=\"text-align: right;\">\n",
       "      <th></th>\n",
       "      <th>timestamp</th>\n",
       "      <th>active_power_calculated_by_converter</th>\n",
       "      <th>active_power_raw</th>\n",
       "      <th>ambient_temperature</th>\n",
       "      <th>generator_speed</th>\n",
       "      <th>generator_winding_temp_max</th>\n",
       "      <th>grid_power10min_average</th>\n",
       "      <th>nc1_inside_temp</th>\n",
       "      <th>nacelle_temp</th>\n",
       "      <th>reactice_power_calculated_by_converter</th>\n",
       "      <th>reactive_power</th>\n",
       "      <th>wind_direction_raw</th>\n",
       "      <th>wind_speed_raw</th>\n",
       "      <th>wind_speed_turbulence</th>\n",
       "      <th>turbine_id</th>\n",
       "      <th>Target</th>\n",
       "      <th>month</th>\n",
       "    </tr>\n",
       "  </thead>\n",
       "  <tbody>\n",
       "    <tr>\n",
       "      <th>0</th>\n",
       "      <td>2021-02-19 20:18:00</td>\n",
       "      <td>816.636759</td>\n",
       "      <td>834.917206</td>\n",
       "      <td>31.694380</td>\n",
       "      <td>1159.616602</td>\n",
       "      <td>65.954214</td>\n",
       "      <td>917.897085</td>\n",
       "      <td>31.881972</td>\n",
       "      <td>31.504713</td>\n",
       "      <td>141.457644</td>\n",
       "      <td>165.501518</td>\n",
       "      <td>280.864782</td>\n",
       "      <td>7.057000</td>\n",
       "      <td>0.544082</td>\n",
       "      <td>Turbine_108</td>\n",
       "      <td>47.582787</td>\n",
       "      <td>2</td>\n",
       "    </tr>\n",
       "    <tr>\n",
       "      <th>1</th>\n",
       "      <td>2021-04-27 04:55:00</td>\n",
       "      <td>419.107829</td>\n",
       "      <td>421.050873</td>\n",
       "      <td>12.894948</td>\n",
       "      <td>928.747996</td>\n",
       "      <td>59.571319</td>\n",
       "      <td>445.554250</td>\n",
       "      <td>32.423705</td>\n",
       "      <td>32.755770</td>\n",
       "      <td>89.186457</td>\n",
       "      <td>113.835236</td>\n",
       "      <td>299.552460</td>\n",
       "      <td>5.474937</td>\n",
       "      <td>0.469031</td>\n",
       "      <td>Turbine_18</td>\n",
       "      <td>46.070328</td>\n",
       "      <td>4</td>\n",
       "    </tr>\n",
       "    <tr>\n",
       "      <th>2</th>\n",
       "      <td>2021-01-25 06:26:00</td>\n",
       "      <td>1303.530558</td>\n",
       "      <td>1337.566142</td>\n",
       "      <td>16.648388</td>\n",
       "      <td>1201.219775</td>\n",
       "      <td>61.270498</td>\n",
       "      <td>1364.716003</td>\n",
       "      <td>11.446849</td>\n",
       "      <td>18.332985</td>\n",
       "      <td>230.622309</td>\n",
       "      <td>281.452253</td>\n",
       "      <td>84.960106</td>\n",
       "      <td>8.092457</td>\n",
       "      <td>0.622318</td>\n",
       "      <td>Turbine_105</td>\n",
       "      <td>39.989236</td>\n",
       "      <td>1</td>\n",
       "    </tr>\n",
       "    <tr>\n",
       "      <th>3</th>\n",
       "      <td>2021-10-30 03:47:00</td>\n",
       "      <td>61.494872</td>\n",
       "      <td>53.481008</td>\n",
       "      <td>28.388141</td>\n",
       "      <td>769.806122</td>\n",
       "      <td>40.674348</td>\n",
       "      <td>14.324897</td>\n",
       "      <td>34.253204</td>\n",
       "      <td>32.662889</td>\n",
       "      <td>66.211015</td>\n",
       "      <td>75.017531</td>\n",
       "      <td>87.261119</td>\n",
       "      <td>4.071032</td>\n",
       "      <td>0.760719</td>\n",
       "      <td>Turbine_15</td>\n",
       "      <td>46.056587</td>\n",
       "      <td>10</td>\n",
       "    </tr>\n",
       "    <tr>\n",
       "      <th>4</th>\n",
       "      <td>2021-03-15 00:39:00</td>\n",
       "      <td>593.514364</td>\n",
       "      <td>611.659108</td>\n",
       "      <td>31.519527</td>\n",
       "      <td>1046.916768</td>\n",
       "      <td>64.341763</td>\n",
       "      <td>599.020172</td>\n",
       "      <td>32.405586</td>\n",
       "      <td>31.466387</td>\n",
       "      <td>137.163938</td>\n",
       "      <td>160.202421</td>\n",
       "      <td>313.724818</td>\n",
       "      <td>6.357943</td>\n",
       "      <td>0.346068</td>\n",
       "      <td>Turbine_01</td>\n",
       "      <td>54.346095</td>\n",
       "      <td>3</td>\n",
       "    </tr>\n",
       "    <tr>\n",
       "      <th>...</th>\n",
       "      <td>...</td>\n",
       "      <td>...</td>\n",
       "      <td>...</td>\n",
       "      <td>...</td>\n",
       "      <td>...</td>\n",
       "      <td>...</td>\n",
       "      <td>...</td>\n",
       "      <td>...</td>\n",
       "      <td>...</td>\n",
       "      <td>...</td>\n",
       "      <td>...</td>\n",
       "      <td>...</td>\n",
       "      <td>...</td>\n",
       "      <td>...</td>\n",
       "      <td>...</td>\n",
       "      <td>...</td>\n",
       "      <td>...</td>\n",
       "    </tr>\n",
       "    <tr>\n",
       "      <th>909599</th>\n",
       "      <td>2021-04-25 19:12:00</td>\n",
       "      <td>929.101908</td>\n",
       "      <td>948.441905</td>\n",
       "      <td>32.736076</td>\n",
       "      <td>1187.303192</td>\n",
       "      <td>83.187140</td>\n",
       "      <td>1343.320577</td>\n",
       "      <td>32.291391</td>\n",
       "      <td>35.152280</td>\n",
       "      <td>152.216446</td>\n",
       "      <td>191.088800</td>\n",
       "      <td>189.901812</td>\n",
       "      <td>7.155343</td>\n",
       "      <td>1.028960</td>\n",
       "      <td>Turbine_13</td>\n",
       "      <td>50.768675</td>\n",
       "      <td>4</td>\n",
       "    </tr>\n",
       "    <tr>\n",
       "      <th>909600</th>\n",
       "      <td>2021-02-20 17:37:00</td>\n",
       "      <td>100.730526</td>\n",
       "      <td>88.694599</td>\n",
       "      <td>30.540500</td>\n",
       "      <td>770.245593</td>\n",
       "      <td>56.235497</td>\n",
       "      <td>177.620552</td>\n",
       "      <td>30.434302</td>\n",
       "      <td>29.932141</td>\n",
       "      <td>85.353107</td>\n",
       "      <td>96.621675</td>\n",
       "      <td>93.417590</td>\n",
       "      <td>4.121607</td>\n",
       "      <td>0.595874</td>\n",
       "      <td>Turbine_158</td>\n",
       "      <td>44.234821</td>\n",
       "      <td>2</td>\n",
       "    </tr>\n",
       "    <tr>\n",
       "      <th>909601</th>\n",
       "      <td>2021-10-22 14:18:00</td>\n",
       "      <td>1120.915965</td>\n",
       "      <td>1165.016907</td>\n",
       "      <td>30.901129</td>\n",
       "      <td>1170.456860</td>\n",
       "      <td>62.942943</td>\n",
       "      <td>873.414622</td>\n",
       "      <td>30.491818</td>\n",
       "      <td>33.085164</td>\n",
       "      <td>42.820210</td>\n",
       "      <td>74.111173</td>\n",
       "      <td>230.988398</td>\n",
       "      <td>8.551669</td>\n",
       "      <td>0.951241</td>\n",
       "      <td>Turbine_15</td>\n",
       "      <td>46.942486</td>\n",
       "      <td>10</td>\n",
       "    </tr>\n",
       "    <tr>\n",
       "      <th>909602</th>\n",
       "      <td>2021-02-08 22:03:00</td>\n",
       "      <td>123.444564</td>\n",
       "      <td>116.066919</td>\n",
       "      <td>32.697933</td>\n",
       "      <td>770.190796</td>\n",
       "      <td>57.245207</td>\n",
       "      <td>95.865704</td>\n",
       "      <td>32.338824</td>\n",
       "      <td>31.525384</td>\n",
       "      <td>86.549094</td>\n",
       "      <td>97.470984</td>\n",
       "      <td>65.408801</td>\n",
       "      <td>4.324064</td>\n",
       "      <td>0.247335</td>\n",
       "      <td>Turbine_97</td>\n",
       "      <td>46.392221</td>\n",
       "      <td>2</td>\n",
       "    </tr>\n",
       "    <tr>\n",
       "      <th>909603</th>\n",
       "      <td>2021-04-09 14:28:00</td>\n",
       "      <td>4.843147</td>\n",
       "      <td>10.779734</td>\n",
       "      <td>19.452520</td>\n",
       "      <td>736.601664</td>\n",
       "      <td>60.603885</td>\n",
       "      <td>78.559767</td>\n",
       "      <td>30.798932</td>\n",
       "      <td>38.252200</td>\n",
       "      <td>2.763231</td>\n",
       "      <td>1.320198</td>\n",
       "      <td>11.127739</td>\n",
       "      <td>2.017444</td>\n",
       "      <td>0.963029</td>\n",
       "      <td>Turbine_105</td>\n",
       "      <td>48.902180</td>\n",
       "      <td>4</td>\n",
       "    </tr>\n",
       "  </tbody>\n",
       "</table>\n",
       "<p>909604 rows × 17 columns</p>\n",
       "</div>"
      ],
      "text/plain": [
       "                 timestamp  active_power_calculated_by_converter  \\\n",
       "0      2021-02-19 20:18:00                            816.636759   \n",
       "1      2021-04-27 04:55:00                            419.107829   \n",
       "2      2021-01-25 06:26:00                           1303.530558   \n",
       "3      2021-10-30 03:47:00                             61.494872   \n",
       "4      2021-03-15 00:39:00                            593.514364   \n",
       "...                    ...                                   ...   \n",
       "909599 2021-04-25 19:12:00                            929.101908   \n",
       "909600 2021-02-20 17:37:00                            100.730526   \n",
       "909601 2021-10-22 14:18:00                           1120.915965   \n",
       "909602 2021-02-08 22:03:00                            123.444564   \n",
       "909603 2021-04-09 14:28:00                              4.843147   \n",
       "\n",
       "        active_power_raw  ambient_temperature  generator_speed  \\\n",
       "0             834.917206            31.694380      1159.616602   \n",
       "1             421.050873            12.894948       928.747996   \n",
       "2            1337.566142            16.648388      1201.219775   \n",
       "3              53.481008            28.388141       769.806122   \n",
       "4             611.659108            31.519527      1046.916768   \n",
       "...                  ...                  ...              ...   \n",
       "909599        948.441905            32.736076      1187.303192   \n",
       "909600         88.694599            30.540500       770.245593   \n",
       "909601       1165.016907            30.901129      1170.456860   \n",
       "909602        116.066919            32.697933       770.190796   \n",
       "909603         10.779734            19.452520       736.601664   \n",
       "\n",
       "        generator_winding_temp_max  grid_power10min_average  nc1_inside_temp  \\\n",
       "0                        65.954214               917.897085        31.881972   \n",
       "1                        59.571319               445.554250        32.423705   \n",
       "2                        61.270498              1364.716003        11.446849   \n",
       "3                        40.674348                14.324897        34.253204   \n",
       "4                        64.341763               599.020172        32.405586   \n",
       "...                            ...                      ...              ...   \n",
       "909599                   83.187140              1343.320577        32.291391   \n",
       "909600                   56.235497               177.620552        30.434302   \n",
       "909601                   62.942943               873.414622        30.491818   \n",
       "909602                   57.245207                95.865704        32.338824   \n",
       "909603                   60.603885                78.559767        30.798932   \n",
       "\n",
       "        nacelle_temp  reactice_power_calculated_by_converter  reactive_power  \\\n",
       "0          31.504713                              141.457644      165.501518   \n",
       "1          32.755770                               89.186457      113.835236   \n",
       "2          18.332985                              230.622309      281.452253   \n",
       "3          32.662889                               66.211015       75.017531   \n",
       "4          31.466387                              137.163938      160.202421   \n",
       "...              ...                                     ...             ...   \n",
       "909599     35.152280                              152.216446      191.088800   \n",
       "909600     29.932141                               85.353107       96.621675   \n",
       "909601     33.085164                               42.820210       74.111173   \n",
       "909602     31.525384                               86.549094       97.470984   \n",
       "909603     38.252200                                2.763231        1.320198   \n",
       "\n",
       "        wind_direction_raw  wind_speed_raw  wind_speed_turbulence  \\\n",
       "0               280.864782        7.057000               0.544082   \n",
       "1               299.552460        5.474937               0.469031   \n",
       "2                84.960106        8.092457               0.622318   \n",
       "3                87.261119        4.071032               0.760719   \n",
       "4               313.724818        6.357943               0.346068   \n",
       "...                    ...             ...                    ...   \n",
       "909599          189.901812        7.155343               1.028960   \n",
       "909600           93.417590        4.121607               0.595874   \n",
       "909601          230.988398        8.551669               0.951241   \n",
       "909602           65.408801        4.324064               0.247335   \n",
       "909603           11.127739        2.017444               0.963029   \n",
       "\n",
       "         turbine_id     Target  month  \n",
       "0       Turbine_108  47.582787      2  \n",
       "1        Turbine_18  46.070328      4  \n",
       "2       Turbine_105  39.989236      1  \n",
       "3        Turbine_15  46.056587     10  \n",
       "4        Turbine_01  54.346095      3  \n",
       "...             ...        ...    ...  \n",
       "909599   Turbine_13  50.768675      4  \n",
       "909600  Turbine_158  44.234821      2  \n",
       "909601   Turbine_15  46.942486     10  \n",
       "909602   Turbine_97  46.392221      2  \n",
       "909603  Turbine_105  48.902180      4  \n",
       "\n",
       "[909604 rows x 17 columns]"
      ]
     },
     "execution_count": 13,
     "metadata": {},
     "output_type": "execute_result"
    }
   ],
   "source": [
    "df_train"
   ]
  },
  {
   "cell_type": "code",
   "execution_count": 14,
   "id": "a8984cb6",
   "metadata": {},
   "outputs": [],
   "source": [
    "sqpwr=df_train['active_power_raw']**2+df_train['reactive_power']**2\n",
    "df_train['App_pwr']=np.sqrt(sqpwr)"
   ]
  },
  {
   "cell_type": "code",
   "execution_count": 15,
   "id": "92877f26",
   "metadata": {},
   "outputs": [],
   "source": [
    "df_train=df_train.drop(['timestamp','active_power_calculated_by_converter','grid_power10min_average','reactice_power_calculated_by_converter','turbine_id','active_power_raw','reactive_power'],axis=1)"
   ]
  },
  {
   "cell_type": "code",
   "execution_count": 16,
   "id": "105b05c9",
   "metadata": {},
   "outputs": [
    {
     "data": {
      "text/html": [
       "<div>\n",
       "<style scoped>\n",
       "    .dataframe tbody tr th:only-of-type {\n",
       "        vertical-align: middle;\n",
       "    }\n",
       "\n",
       "    .dataframe tbody tr th {\n",
       "        vertical-align: top;\n",
       "    }\n",
       "\n",
       "    .dataframe thead th {\n",
       "        text-align: right;\n",
       "    }\n",
       "</style>\n",
       "<table border=\"1\" class=\"dataframe\">\n",
       "  <thead>\n",
       "    <tr style=\"text-align: right;\">\n",
       "      <th></th>\n",
       "      <th>ambient_temperature</th>\n",
       "      <th>generator_speed</th>\n",
       "      <th>generator_winding_temp_max</th>\n",
       "      <th>nc1_inside_temp</th>\n",
       "      <th>nacelle_temp</th>\n",
       "      <th>wind_direction_raw</th>\n",
       "      <th>wind_speed_raw</th>\n",
       "      <th>wind_speed_turbulence</th>\n",
       "      <th>Target</th>\n",
       "      <th>month</th>\n",
       "      <th>App_pwr</th>\n",
       "    </tr>\n",
       "  </thead>\n",
       "  <tbody>\n",
       "    <tr>\n",
       "      <th>0</th>\n",
       "      <td>31.694380</td>\n",
       "      <td>1159.616602</td>\n",
       "      <td>65.954214</td>\n",
       "      <td>31.881972</td>\n",
       "      <td>31.504713</td>\n",
       "      <td>280.864782</td>\n",
       "      <td>7.057000</td>\n",
       "      <td>0.544082</td>\n",
       "      <td>47.582787</td>\n",
       "      <td>2</td>\n",
       "      <td>851.162436</td>\n",
       "    </tr>\n",
       "    <tr>\n",
       "      <th>1</th>\n",
       "      <td>12.894948</td>\n",
       "      <td>928.747996</td>\n",
       "      <td>59.571319</td>\n",
       "      <td>32.423705</td>\n",
       "      <td>32.755770</td>\n",
       "      <td>299.552460</td>\n",
       "      <td>5.474937</td>\n",
       "      <td>0.469031</td>\n",
       "      <td>46.070328</td>\n",
       "      <td>4</td>\n",
       "      <td>436.167741</td>\n",
       "    </tr>\n",
       "    <tr>\n",
       "      <th>2</th>\n",
       "      <td>16.648388</td>\n",
       "      <td>1201.219775</td>\n",
       "      <td>61.270498</td>\n",
       "      <td>11.446849</td>\n",
       "      <td>18.332985</td>\n",
       "      <td>84.960106</td>\n",
       "      <td>8.092457</td>\n",
       "      <td>0.622318</td>\n",
       "      <td>39.989236</td>\n",
       "      <td>1</td>\n",
       "      <td>1366.857181</td>\n",
       "    </tr>\n",
       "    <tr>\n",
       "      <th>3</th>\n",
       "      <td>28.388141</td>\n",
       "      <td>769.806122</td>\n",
       "      <td>40.674348</td>\n",
       "      <td>34.253204</td>\n",
       "      <td>32.662889</td>\n",
       "      <td>87.261119</td>\n",
       "      <td>4.071032</td>\n",
       "      <td>0.760719</td>\n",
       "      <td>46.056587</td>\n",
       "      <td>10</td>\n",
       "      <td>92.129518</td>\n",
       "    </tr>\n",
       "    <tr>\n",
       "      <th>4</th>\n",
       "      <td>31.519527</td>\n",
       "      <td>1046.916768</td>\n",
       "      <td>64.341763</td>\n",
       "      <td>32.405586</td>\n",
       "      <td>31.466387</td>\n",
       "      <td>313.724818</td>\n",
       "      <td>6.357943</td>\n",
       "      <td>0.346068</td>\n",
       "      <td>54.346095</td>\n",
       "      <td>3</td>\n",
       "      <td>632.290820</td>\n",
       "    </tr>\n",
       "    <tr>\n",
       "      <th>...</th>\n",
       "      <td>...</td>\n",
       "      <td>...</td>\n",
       "      <td>...</td>\n",
       "      <td>...</td>\n",
       "      <td>...</td>\n",
       "      <td>...</td>\n",
       "      <td>...</td>\n",
       "      <td>...</td>\n",
       "      <td>...</td>\n",
       "      <td>...</td>\n",
       "      <td>...</td>\n",
       "    </tr>\n",
       "    <tr>\n",
       "      <th>909599</th>\n",
       "      <td>32.736076</td>\n",
       "      <td>1187.303192</td>\n",
       "      <td>83.187140</td>\n",
       "      <td>32.291391</td>\n",
       "      <td>35.152280</td>\n",
       "      <td>189.901812</td>\n",
       "      <td>7.155343</td>\n",
       "      <td>1.028960</td>\n",
       "      <td>50.768675</td>\n",
       "      <td>4</td>\n",
       "      <td>967.500375</td>\n",
       "    </tr>\n",
       "    <tr>\n",
       "      <th>909600</th>\n",
       "      <td>30.540500</td>\n",
       "      <td>770.245593</td>\n",
       "      <td>56.235497</td>\n",
       "      <td>30.434302</td>\n",
       "      <td>29.932141</td>\n",
       "      <td>93.417590</td>\n",
       "      <td>4.121607</td>\n",
       "      <td>0.595874</td>\n",
       "      <td>44.234821</td>\n",
       "      <td>2</td>\n",
       "      <td>131.158225</td>\n",
       "    </tr>\n",
       "    <tr>\n",
       "      <th>909601</th>\n",
       "      <td>30.901129</td>\n",
       "      <td>1170.456860</td>\n",
       "      <td>62.942943</td>\n",
       "      <td>30.491818</td>\n",
       "      <td>33.085164</td>\n",
       "      <td>230.988398</td>\n",
       "      <td>8.551669</td>\n",
       "      <td>0.951241</td>\n",
       "      <td>46.942486</td>\n",
       "      <td>10</td>\n",
       "      <td>1167.371774</td>\n",
       "    </tr>\n",
       "    <tr>\n",
       "      <th>909602</th>\n",
       "      <td>32.697933</td>\n",
       "      <td>770.190796</td>\n",
       "      <td>57.245207</td>\n",
       "      <td>32.338824</td>\n",
       "      <td>31.525384</td>\n",
       "      <td>65.408801</td>\n",
       "      <td>4.324064</td>\n",
       "      <td>0.247335</td>\n",
       "      <td>46.392221</td>\n",
       "      <td>2</td>\n",
       "      <td>151.565571</td>\n",
       "    </tr>\n",
       "    <tr>\n",
       "      <th>909603</th>\n",
       "      <td>19.452520</td>\n",
       "      <td>736.601664</td>\n",
       "      <td>60.603885</td>\n",
       "      <td>30.798932</td>\n",
       "      <td>38.252200</td>\n",
       "      <td>11.127739</td>\n",
       "      <td>2.017444</td>\n",
       "      <td>0.963029</td>\n",
       "      <td>48.902180</td>\n",
       "      <td>4</td>\n",
       "      <td>10.860275</td>\n",
       "    </tr>\n",
       "  </tbody>\n",
       "</table>\n",
       "<p>909604 rows × 11 columns</p>\n",
       "</div>"
      ],
      "text/plain": [
       "        ambient_temperature  generator_speed  generator_winding_temp_max  \\\n",
       "0                 31.694380      1159.616602                   65.954214   \n",
       "1                 12.894948       928.747996                   59.571319   \n",
       "2                 16.648388      1201.219775                   61.270498   \n",
       "3                 28.388141       769.806122                   40.674348   \n",
       "4                 31.519527      1046.916768                   64.341763   \n",
       "...                     ...              ...                         ...   \n",
       "909599            32.736076      1187.303192                   83.187140   \n",
       "909600            30.540500       770.245593                   56.235497   \n",
       "909601            30.901129      1170.456860                   62.942943   \n",
       "909602            32.697933       770.190796                   57.245207   \n",
       "909603            19.452520       736.601664                   60.603885   \n",
       "\n",
       "        nc1_inside_temp  nacelle_temp  wind_direction_raw  wind_speed_raw  \\\n",
       "0             31.881972     31.504713          280.864782        7.057000   \n",
       "1             32.423705     32.755770          299.552460        5.474937   \n",
       "2             11.446849     18.332985           84.960106        8.092457   \n",
       "3             34.253204     32.662889           87.261119        4.071032   \n",
       "4             32.405586     31.466387          313.724818        6.357943   \n",
       "...                 ...           ...                 ...             ...   \n",
       "909599        32.291391     35.152280          189.901812        7.155343   \n",
       "909600        30.434302     29.932141           93.417590        4.121607   \n",
       "909601        30.491818     33.085164          230.988398        8.551669   \n",
       "909602        32.338824     31.525384           65.408801        4.324064   \n",
       "909603        30.798932     38.252200           11.127739        2.017444   \n",
       "\n",
       "        wind_speed_turbulence     Target  month      App_pwr  \n",
       "0                    0.544082  47.582787      2   851.162436  \n",
       "1                    0.469031  46.070328      4   436.167741  \n",
       "2                    0.622318  39.989236      1  1366.857181  \n",
       "3                    0.760719  46.056587     10    92.129518  \n",
       "4                    0.346068  54.346095      3   632.290820  \n",
       "...                       ...        ...    ...          ...  \n",
       "909599               1.028960  50.768675      4   967.500375  \n",
       "909600               0.595874  44.234821      2   131.158225  \n",
       "909601               0.951241  46.942486     10  1167.371774  \n",
       "909602               0.247335  46.392221      2   151.565571  \n",
       "909603               0.963029  48.902180      4    10.860275  \n",
       "\n",
       "[909604 rows x 11 columns]"
      ]
     },
     "execution_count": 16,
     "metadata": {},
     "output_type": "execute_result"
    }
   ],
   "source": [
    "df_train"
   ]
  },
  {
   "cell_type": "code",
   "execution_count": 17,
   "id": "d48f4b9c",
   "metadata": {},
   "outputs": [
    {
     "data": {
      "text/plain": [
       "Index(['ambient_temperature', 'generator_speed', 'generator_winding_temp_max',\n",
       "       'nc1_inside_temp', 'nacelle_temp', 'wind_direction_raw',\n",
       "       'wind_speed_raw', 'wind_speed_turbulence', 'Target', 'month',\n",
       "       'App_pwr'],\n",
       "      dtype='object')"
      ]
     },
     "execution_count": 17,
     "metadata": {},
     "output_type": "execute_result"
    }
   ],
   "source": [
    "df_train.columns"
   ]
  },
  {
   "cell_type": "code",
   "execution_count": 18,
   "id": "c1c29aa6",
   "metadata": {},
   "outputs": [
    {
     "data": {
      "text/plain": [
       "<AxesSubplot:>"
      ]
     },
     "execution_count": 18,
     "metadata": {},
     "output_type": "execute_result"
    },
    {
     "data": {
      "image/png": "[encoded data removed]",
      "text/plain": [
       "<Figure size 864x936 with 2 Axes>"
      ]
     },
     "metadata": {
      "needs_background": "light"
     },
     "output_type": "display_data"
    }
   ],
   "source": [
    "plt.figure(figsize=(12,13))\n",
    "sns.heatmap(df_train.corr(),annot=True)"
   ]
  },
  {
   "cell_type": "code",
   "execution_count": 19,
   "id": "11562999",
   "metadata": {},
   "outputs": [
    {
     "name": "stdout",
     "output_type": "stream",
     "text": [
      "skewness of Ambient Tmperature is -0.40560626683541173\n"
     ]
    },
    {
     "data": {
      "image/png": "[encoded data removed]",
      "text/plain": [
       "<Figure size 432x288 with 1 Axes>"
      ]
     },
     "metadata": {
      "needs_background": "light"
     },
     "output_type": "display_data"
    }
   ],
   "source": [
    "sns.distplot(df_train['ambient_temperature'],color='g')\n",
    "print(\"skewness of Ambient Tmperature is\",df_train['ambient_temperature'].skew())"
   ]
  },
  {
   "cell_type": "code",
   "execution_count": 20,
   "id": "b2458982",
   "metadata": {},
   "outputs": [
    {
     "name": "stdout",
     "output_type": "stream",
     "text": [
      "App_pwr 1.1377563242194217\n"
     ]
    },
    {
     "data": {
      "image/png": "[encoded data removed]",
      "text/plain": [
       "<Figure size 432x288 with 1 Axes>"
      ]
     },
     "metadata": {
      "needs_background": "light"
     },
     "output_type": "display_data"
    }
   ],
   "source": [
    "sns.distplot(df_train['App_pwr'],color='r')\n",
    "print(\"App_pwr\",df_train['App_pwr'].skew())"
   ]
  },
  {
   "cell_type": "code",
   "execution_count": 21,
   "id": "5ba7aa45",
   "metadata": {},
   "outputs": [
    {
     "name": "stdout",
     "output_type": "stream",
     "text": [
      "wind_speed_turbulence 2.205472329829637\n"
     ]
    },
    {
     "data": {
      "image/png": "[encoded data removed]",
      "text/plain": [
       "<Figure size 432x288 with 1 Axes>"
      ]
     },
     "metadata": {
      "needs_background": "light"
     },
     "output_type": "display_data"
    }
   ],
   "source": [
    "sns.distplot(df_train['wind_speed_turbulence'],color='b')\n",
    "print(\"wind_speed_turbulence\",df_train['wind_speed_turbulence'].skew())"
   ]
  },
  {
   "cell_type": "code",
   "execution_count": 22,
   "id": "0ef41f52",
   "metadata": {},
   "outputs": [
    {
     "data": {
      "text/plain": [
       "ambient_temperature          -0.405606\n",
       "generator_speed              -0.432870\n",
       "generator_winding_temp_max    0.482791\n",
       "nc1_inside_temp               0.040530\n",
       "nacelle_temp                 -0.427542\n",
       "wind_direction_raw           -0.363971\n",
       "wind_speed_raw                0.718327\n",
       "wind_speed_turbulence         2.205472\n",
       "Target                        0.705359\n",
       "month                        -0.027609\n",
       "App_pwr                       1.137756\n",
       "dtype: float64"
      ]
     },
     "execution_count": 22,
     "metadata": {},
     "output_type": "execute_result"
    }
   ],
   "source": [
    "df_train.skew()"
   ]
  },
  {
   "cell_type": "code",
   "execution_count": 23,
   "id": "c4bb8862",
   "metadata": {},
   "outputs": [],
   "source": [
    "df_train['wind_speed_raw']=np.log1p(df_train['wind_speed_raw'])\n",
    "df_train['wind_speed_turbulence']=np.log1p(df_train['wind_speed_turbulence'])\n",
    "df_train['App_pwr']=np.log1p(df_train['App_pwr'])"
   ]
  },
  {
   "cell_type": "code",
   "execution_count": 24,
   "id": "b4d56c88",
   "metadata": {},
   "outputs": [],
   "source": [
    "df_train['wind_speed_turbulence']=np.log1p(df_train['wind_speed_turbulence'])\n"
   ]
  },
  {
   "cell_type": "code",
   "execution_count": 25,
   "id": "45279c0f",
   "metadata": {},
   "outputs": [
    {
     "data": {
      "text/plain": [
       "ambient_temperature          -0.405606\n",
       "generator_speed              -0.432870\n",
       "generator_winding_temp_max    0.482791\n",
       "nc1_inside_temp               0.040530\n",
       "nacelle_temp                 -0.427542\n",
       "wind_direction_raw           -0.363971\n",
       "wind_speed_raw               -0.064956\n",
       "wind_speed_turbulence         0.552113\n",
       "Target                        0.705359\n",
       "month                        -0.027609\n",
       "App_pwr                      -0.843096\n",
       "dtype: float64"
      ]
     },
     "execution_count": 25,
     "metadata": {},
     "output_type": "execute_result"
    }
   ],
   "source": [
    "df_train.skew()"
   ]
  },
  {
   "cell_type": "code",
   "execution_count": 26,
   "id": "1f622352",
   "metadata": {},
   "outputs": [
    {
     "data": {
      "text/plain": [
       "0         47.582787\n",
       "1         46.070328\n",
       "2         39.989236\n",
       "3         46.056587\n",
       "4         54.346095\n",
       "            ...    \n",
       "909599    50.768675\n",
       "909600    44.234821\n",
       "909601    46.942486\n",
       "909602    46.392221\n",
       "909603    48.902180\n",
       "Name: Target, Length: 909604, dtype: float64"
      ]
     },
     "execution_count": 26,
     "metadata": {},
     "output_type": "execute_result"
    }
   ],
   "source": [
    "df_train['Target']"
   ]
  },
  {
   "cell_type": "markdown",
   "id": "0d9ac81c",
   "metadata": {},
   "source": [
    "# Intialising dependend and independend varible"
   ]
  },
  {
   "cell_type": "code",
   "execution_count": 27,
   "id": "4c70127f",
   "metadata": {},
   "outputs": [],
   "source": [
    "X=df_train.drop(['Target'],axis=1)\n",
    "y=df_train['Target']"
   ]
  },
  {
   "cell_type": "code",
   "execution_count": 28,
   "id": "c4daf106",
   "metadata": {},
   "outputs": [
    {
     "data": {
      "text/plain": [
       "0         47.582787\n",
       "1         46.070328\n",
       "2         39.989236\n",
       "3         46.056587\n",
       "4         54.346095\n",
       "            ...    \n",
       "909599    50.768675\n",
       "909600    44.234821\n",
       "909601    46.942486\n",
       "909602    46.392221\n",
       "909603    48.902180\n",
       "Name: Target, Length: 909604, dtype: float64"
      ]
     },
     "execution_count": 28,
     "metadata": {},
     "output_type": "execute_result"
    }
   ],
   "source": [
    "df_train['Target']"
   ]
  },
  {
   "cell_type": "markdown",
   "id": "f393b6e0",
   "metadata": {},
   "source": [
    "# Train test split"
   ]
  },
  {
   "cell_type": "code",
   "execution_count": 29,
   "id": "eb33935c",
   "metadata": {},
   "outputs": [],
   "source": [
    "from sklearn.model_selection import train_test_split\n",
    "X_train,X_test,y_train,y_test=train_test_split(X,y,test_size=0.33,random_state=100)"
   ]
  },
  {
   "cell_type": "code",
   "execution_count": 30,
   "id": "7666f328",
   "metadata": {},
   "outputs": [
    {
     "data": {
      "text/plain": [
       "0         47.582787\n",
       "1         46.070328\n",
       "2         39.989236\n",
       "3         46.056587\n",
       "4         54.346095\n",
       "            ...    \n",
       "909599    50.768675\n",
       "909600    44.234821\n",
       "909601    46.942486\n",
       "909602    46.392221\n",
       "909603    48.902180\n",
       "Name: Target, Length: 909604, dtype: float64"
      ]
     },
     "execution_count": 30,
     "metadata": {},
     "output_type": "execute_result"
    }
   ],
   "source": [
    "df_train['Target']"
   ]
  },
  {
   "cell_type": "markdown",
   "id": "c94ce974",
   "metadata": {},
   "source": [
    "# Importing model"
   ]
  },
  {
   "cell_type": "code",
   "execution_count": 41,
   "id": "4733f91c",
   "metadata": {},
   "outputs": [
    {
     "data": {
      "text/plain": [
       "RandomForestRegressor(n_estimators=50)"
      ]
     },
     "execution_count": 41,
     "metadata": {},
     "output_type": "execute_result"
    }
   ],
   "source": [
    "from sklearn.ensemble import RandomForestRegressor\n",
    "RFR=RandomForestRegressor(n_estimators=50)\n",
    "model=RFR.fit(X_train,y_train)\n",
    "model"
   ]
  },
  {
   "cell_type": "code",
   "execution_count": 42,
   "id": "c7625301",
   "metadata": {},
   "outputs": [
    {
     "data": {
      "text/plain": [
       "0.8426949497932084"
      ]
     },
     "execution_count": 42,
     "metadata": {},
     "output_type": "execute_result"
    }
   ],
   "source": [
    "model.score(X_test,y_test)"
   ]
  },
  {
   "cell_type": "code",
   "execution_count": 33,
   "id": "3acd2145",
   "metadata": {},
   "outputs": [],
   "source": [
    "y_pred=RFR.predict(X_test)"
   ]
  },
  {
   "cell_type": "code",
   "execution_count": 34,
   "id": "a3ef1675",
   "metadata": {},
   "outputs": [
    {
     "data": {
      "text/plain": [
       "array([44.3909826 , 47.1415684 , 46.46635202, ..., 43.62448507,\n",
       "       46.5615241 , 52.15897326])"
      ]
     },
     "execution_count": 34,
     "metadata": {},
     "output_type": "execute_result"
    }
   ],
   "source": [
    "y_pred"
   ]
  },
  {
   "cell_type": "markdown",
   "id": "9f817743",
   "metadata": {},
   "source": [
    "# Creating pickle file"
   ]
  },
  {
   "cell_type": "code",
   "execution_count": 35,
   "id": "d3a44cfb",
   "metadata": {},
   "outputs": [],
   "source": [
    "import pickle"
   ]
  },
  {
   "cell_type": "code",
   "execution_count": 36,
   "id": "d4a5db7b",
   "metadata": {},
   "outputs": [],
   "source": [
    "filename= 'trained_model.sav'\n",
    "pickle.dump(RFR,open(filename,'wb'))"
   ]
  },
  {
   "cell_type": "code",
   "execution_count": 37,
   "id": "e3947e8f",
   "metadata": {},
   "outputs": [],
   "source": [
    "load_model=pickle.load(open('trained_model.sav','rb'))"
   ]
  },
  {
   "cell_type": "code",
   "execution_count": 38,
   "id": "e7f14ce9",
   "metadata": {},
   "outputs": [],
   "source": [
    "y_pred1=load_model.predict(X_test)"
   ]
  },
  {
   "cell_type": "code",
   "execution_count": 39,
   "id": "dae337df",
   "metadata": {},
   "outputs": [
    {
     "data": {
      "text/plain": [
       "array([44.3909826 , 47.1415684 , 46.46635202, ..., 43.62448507,\n",
       "       46.5615241 , 52.15897326])"
      ]
     },
     "execution_count": 39,
     "metadata": {},
     "output_type": "execute_result"
    }
   ],
   "source": [
    "y_pred1"
   ]
  },
  {
   "cell_type": "code",
   "execution_count": 40,
   "id": "ad5109b9",
   "metadata": {},
   "outputs": [
    {
     "name": "stdout",
     "output_type": "stream",
     "text": [
      "[47.57993728]\n"
     ]
    }
   ],
   "source": [
    "input_data =(31,1200,65,31,31,280,7,0.4,5,800)\n",
    "#changing input data as npmpy array\n",
    "input_data_as_numpy_array=np.array(input_data)\n",
    "\n",
    "#reshape array as we are predicting one instance\n",
    "input_data_reshape=input_data_as_numpy_array.reshape(1,-1)\n",
    "\n",
    "prediction=model.predict(input_data_reshape)\n",
    "print(prediction)"
   ]
  },
  {
   "cell_type": "code",
   "execution_count": null,
   "id": "44888079",
   "metadata": {},
   "outputs": [],
   "source": []
  }
 ],
 "metadata": {
  "kernelspec": {
   "display_name": "Python 3 (ipykernel)",
   "language": "python",
   "name": "python3"
  },
  "language_info": {
   "codemirror_mode": {
    "name": "ipython",
    "version": 3
   },
   "file_extension": ".py",
   "mimetype": "text/x-python",
   "name": "python",
   "nbconvert_exporter": "python",
   "pygments_lexer": "ipython3",
   "version": "3.9.12"
  }
 },
 "nbformat": 4,
 "nbformat_minor": 5
}
